{
  "nbformat": 4,
  "nbformat_minor": 0,
  "metadata": {
    "colab": {
      "provenance": [],
      "gpuType": "T4",
      "private_outputs": true
    },
    "kernelspec": {
      "name": "python3",
      "display_name": "Python 3"
    },
    "language_info": {
      "name": "python"
    },
    "accelerator": "GPU",
    "gpuClass": "standard"
  },
  "cells": [
    {
      "cell_type": "markdown",
      "source": [
        "**IMPORTING DEPENDENCIES AND DATASETS**"
      ],
      "metadata": {
        "id": "ANv6Kbj0kHx0"
      }
    },
    {
      "cell_type": "code",
      "source": [
        "import torch"
      ],
      "metadata": {
        "id": "-V_ClEY3kM99"
      },
      "execution_count": null,
      "outputs": []
    },
    {
      "cell_type": "code",
      "source": [
        "!git clone https://github.com/Susa-43/Sports_Classification_dataset.git"
      ],
      "metadata": {
        "id": "7WrEp6F_kPQO"
      },
      "execution_count": null,
      "outputs": []
    },
    {
      "cell_type": "code",
      "source": [
        "!git clone https://github.com/ultralytics/yolov5.git"
      ],
      "metadata": {
        "id": "S1oRjL8CkTeS"
      },
      "execution_count": null,
      "outputs": []
    },
    {
      "cell_type": "markdown",
      "source": [
        "**UNZIPPING THE DATASET**"
      ],
      "metadata": {
        "id": "NjFyKo2KkUJx"
      }
    },
    {
      "cell_type": "code",
      "source": [
        "!unzip Sports_Classification_dataset/data.zip"
      ],
      "metadata": {
        "id": "Q68wZTc5kX8b"
      },
      "execution_count": null,
      "outputs": []
    },
    {
      "cell_type": "markdown",
      "source": [
        "**INSTALLING REQUIREMENTS FOR THE USAGE OF YOLOV5**"
      ],
      "metadata": {
        "id": "KItvemX1kdSI"
      }
    },
    {
      "cell_type": "code",
      "source": [
        "%cd yolov5"
      ],
      "metadata": {
        "id": "x4B_exBHkff9"
      },
      "execution_count": null,
      "outputs": []
    },
    {
      "cell_type": "code",
      "source": [
        "!pip install -r requirements.txt"
      ],
      "metadata": {
        "id": "pHQXetrtkjlh"
      },
      "execution_count": null,
      "outputs": []
    },
    {
      "cell_type": "markdown",
      "source": [
        "**TRAINING THE YOLOV5 MODEL FOR SPORTS**"
      ],
      "metadata": {
        "id": "C5dWkSdJkqSC"
      }
    },
    {
      "cell_type": "code",
      "source": [
        "!python classify/train.py --model yolov5s-cls.pt --data ../data --epochs 20 --img 224 --batch 15"
      ],
      "metadata": {
        "id": "AJkXLgrukvyX"
      },
      "execution_count": null,
      "outputs": []
    },
    {
      "cell_type": "markdown",
      "source": [
        "**PLOTTING ACCURACY AND LOSS GRAPH**"
      ],
      "metadata": {
        "id": "K3s0jdP8k2Bl"
      }
    },
    {
      "cell_type": "code",
      "source": [
        "import pandas as pd\n",
        "\n",
        "# read the results.csv file\n",
        "df = pd.read_csv('runs/train-cls/exp/results.csv')\n",
        "\n",
        "# print the column names\n",
        "print(df.columns)\n",
        "df"
      ],
      "metadata": {
        "id": "DDCZBMrFk4XS"
      },
      "execution_count": null,
      "outputs": []
    },
    {
      "cell_type": "code",
      "source": [
        "import pandas as pd\n",
        "import matplotlib.pyplot as plt\n",
        "\n",
        "# read the results.csv file\n",
        "df = pd.read_csv('runs/train-cls/exp/results.csv')\n",
        "\n",
        "# extract the accuracy and loss values from the dataframe\n",
        "train_acc = df['  metrics/accuracy_top1']\n",
        "train_loss = df['             train/loss']\n",
        "val_loss = df['               val/loss']\n",
        "\n",
        "# plot the accuracy graph\n",
        "plt.plot(train_acc, label='Train')\n",
        "plt.title('Classification Accuracy')\n",
        "plt.xlabel('Epochs')\n",
        "plt.ylabel('Accuracy')\n",
        "plt.show()\n",
        "\n",
        "# plot the loss graph\n",
        "plt.plot(train_loss, label='Train')\n",
        "plt.plot(val_loss, label='Validation')\n",
        "plt.title('Classification Loss')\n",
        "plt.xlabel('Epochs')\n",
        "plt.ylabel('Loss')\n",
        "plt.legend()\n",
        "plt.show()"
      ],
      "metadata": {
        "id": "7o4lQ1pbk6u8"
      },
      "execution_count": null,
      "outputs": []
    },
    {
      "cell_type": "markdown",
      "source": [
        "**PREDICTING THE SPORTS USING THE TRAINED MODEL**"
      ],
      "metadata": {
        "id": "IuVkLaX1lBeA"
      }
    },
    {
      "cell_type": "code",
      "source": [
        "!python classify/predict.py --weights runs/train-cls/exp/weights/best.pt --source ../Sports_Classification_dataset/cricket.mp4"
      ],
      "metadata": {
        "id": "I9WWnEGzlC-J"
      },
      "execution_count": null,
      "outputs": []
    },
    {
      "cell_type": "markdown",
      "source": [
        "**POSE ESTIMATION, FEATURE EXTRACTION FOR THE SPORTS VIDEO AND CONVERING THE OUTPUT INTO VIDEO**"
      ],
      "metadata": {
        "id": "Iu4KDf8elG5Z"
      }
    },
    {
      "cell_type": "code",
      "source": [
        "!pip install mediapipe"
      ],
      "metadata": {
        "id": "BKoEE4TolIbL"
      },
      "execution_count": null,
      "outputs": []
    },
    {
      "cell_type": "code",
      "source": [
        "%cd ../"
      ],
      "metadata": {
        "id": "9rU68z2YlKZI"
      },
      "execution_count": null,
      "outputs": []
    },
    {
      "cell_type": "code",
      "source": [
        "import cv2\n",
        "import mediapipe as mp\n",
        "import numpy as np\n",
        "\n",
        "mp_drawing= mp.solutions.drawing_utils\n",
        "mp_pose= mp.solutions.pose\n",
        "\n",
        "def calculate_angle(a,b,c):\n",
        "    a = np.array(a) # First\n",
        "    b = np.array(b) # Mid\n",
        "    c = np.array(c) # Last\n",
        "\n",
        "    radians = np.arctan2(c[1]-b[1], c[0]-b[0]) - np.arctan2(a[1]-b[1], a[0]-b[0])\n",
        "    angle = np.abs(radians*180.0/np.pi)\n",
        "    \n",
        "    if angle >180.0:\n",
        "        angle = 360-angle\n",
        "        \n",
        "    return angle \n",
        "\n",
        "cap = cv2.VideoCapture(r'yolov5/runs/predict-cls/exp/cricket.mp4')\n",
        "filename=\"final.avi\"\n",
        "codec=cv2.VideoWriter_fourcc('X','V','I','D')\n",
        "width  = int(cap.get(3))\n",
        "height = int(cap.get(4))\n",
        "fps=24\n",
        "resolution=(width,height)\n",
        "out_video=cv2.VideoWriter(filename,codec,fps,resolution)# To convert the frames to video\n",
        "\n",
        "with mp_pose.Pose(min_detection_confidence=0.5,min_tracking_confidence=0.5) as pose :\n",
        "    while cap.isOpened():\n",
        "        ret,image=cap.read()\n",
        "        if ret == False:\n",
        "          break\n",
        "\n",
        "        results=pose.process(image)\n",
        "\n",
        "        try:\n",
        "            landmarks = results.pose_landmarks.landmark\n",
        "            \n",
        "            #Get coordinates\n",
        "            #for elbow\n",
        "\n",
        "            #for left\n",
        "            shoulderleft = [landmarks[mp_pose.PoseLandmark.LEFT_SHOULDER.value].x,landmarks[mp_pose.PoseLandmark.LEFT_SHOULDER.value].y]\n",
        "            elbowleft = [landmarks[mp_pose.PoseLandmark.LEFT_ELBOW.value].x,landmarks[mp_pose.PoseLandmark.LEFT_ELBOW.value].y]\n",
        "            wristleft = [landmarks[mp_pose.PoseLandmark.LEFT_WRIST.value].x,landmarks[mp_pose.PoseLandmark.LEFT_WRIST.value].y]\n",
        "            #for right\n",
        "            shoulderright = [landmarks[mp_pose.PoseLandmark.RIGHT_SHOULDER.value].x,landmarks[mp_pose.PoseLandmark.RIGHT_SHOULDER.value].y]\n",
        "            elbowright = [landmarks[mp_pose.PoseLandmark.RIGHT_ELBOW.value].x,landmarks[mp_pose.PoseLandmark.RIGHT_ELBOW.value].y]\n",
        "            wristright = [landmarks[mp_pose.PoseLandmark.RIGHT_WRIST.value].x,landmarks[mp_pose.PoseLandmark.RIGHT_WRIST.value].y]\n",
        "\n",
        "            #for knee\n",
        "\n",
        "            #for left\n",
        "            hipleft = [landmarks[mp_pose.PoseLandmark.LEFT_HIP.value].x,landmarks[mp_pose.PoseLandmark.LEFT_HIP.value].y]\n",
        "            kneeleft = [landmarks[mp_pose.PoseLandmark.LEFT_KNEE.value].x,landmarks[mp_pose.PoseLandmark.LEFT_KNEE.value].y]\n",
        "            ankleleft = [landmarks[mp_pose.PoseLandmark.LEFT_ANKLE.value].x,landmarks[mp_pose.PoseLandmark.LEFT_ANKLE.value].y]\n",
        "            #for right\n",
        "            hipright = [landmarks[mp_pose.PoseLandmark.RIGHT_HIP.value].x,landmarks[mp_pose.PoseLandmark.RIGHT_HIP.value].y]\n",
        "            kneeright = [landmarks[mp_pose.PoseLandmark.RIGHT_KNEE.value].x,landmarks[mp_pose.PoseLandmark.RIGHT_KNEE.value].y]\n",
        "            ankleright = [landmarks[mp_pose.PoseLandmark.RIGHT_ANKLE.value].x,landmarks[mp_pose.PoseLandmark.RIGHT_ANKLE.value].y]\n",
        "\n",
        "\n",
        "            # Calculate angle\n",
        "            angle1 = int(calculate_angle(shoulderleft, elbowleft, wristleft))\n",
        "            angle2 = int(calculate_angle(shoulderright, elbowright, wristright))\n",
        "            angle3 = int(calculate_angle(hipleft, kneeleft, ankleleft))\n",
        "            angle4 = int(calculate_angle(hipright, kneeright, ankleright))\n",
        "            \n",
        "            # Print angle in the video\n",
        "            cv2.putText(image, str(angle1), \n",
        "                           tuple(np.multiply(elbowleft, [width, height]).astype(int)), \n",
        "                           cv2.FONT_HERSHEY_SIMPLEX, 3, (255, 255, 255), 3, cv2.LINE_AA\n",
        "                                )\n",
        "            cv2.putText(image, str(angle2), \n",
        "                           tuple(np.multiply(elbowright, [width, height]).astype(int)), \n",
        "                           cv2.FONT_HERSHEY_SIMPLEX, 3, (255, 255, 255), 3, cv2.LINE_AA\n",
        "                                )\n",
        "            cv2.putText(image, str(angle3), \n",
        "                           tuple(np.multiply(kneeleft, [width, height]).astype(int)), \n",
        "                           cv2.FONT_HERSHEY_SIMPLEX, 3, (255, 255, 255), 3, cv2.LINE_AA\n",
        "                                ) \n",
        "            cv2.putText(image, str(angle4), \n",
        "                           tuple(np.multiply(kneeright, [width, height]).astype(int)), \n",
        "                           cv2.FONT_HERSHEY_SIMPLEX, 3, (255, 255, 255), 3, cv2.LINE_AA\n",
        "                                )\n",
        "        except:\n",
        "            pass\n",
        "\n",
        "        mp_drawing.draw_landmarks(image,results.pose_landmarks,mp_pose.POSE_CONNECTIONS,mp_drawing.DrawingSpec(color=(0,0,255),thickness=5, circle_radius=5),mp_drawing.DrawingSpec(color=(0,255,0),thickness=5, circle_radius=5))\n",
        "        out_video.write(image)\n",
        "\n",
        "cv2.destroyAllWindows()\n",
        "out_video.release()\n",
        "cap.release()"
      ],
      "metadata": {
        "id": "iiDtJQSWlMhr"
      },
      "execution_count": null,
      "outputs": []
    },
    {
      "cell_type": "code",
      "source": [],
      "metadata": {
        "id": "6VL6n7Pv6Trq"
      },
      "execution_count": null,
      "outputs": []
    }
  ]
}